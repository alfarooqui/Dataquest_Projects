{
 "cells": [
  {
   "cell_type": "markdown",
   "metadata": {
    "collapsed": true
   },
   "source": [
    "## Introduction\n",
    "\n",
    "In this project we will work with housing data for the city of Ames, Iowa, United States from 2006 to 2010."
   ]
  },
  {
   "cell_type": "code",
   "execution_count": 1,
   "metadata": {
    "collapsed": false
   },
   "outputs": [],
   "source": [
    "# import pandas, matplotlib & numpy\n",
    "import pandas as pd\n",
    "import numpy as np\n",
    "import matplotlib.pyplot as plt\n",
    "\n",
    "# import scikit-learn classes\n",
    "from sklearn import linear_model\n",
    "from sklearn.model_selection import KFold\n",
    "from sklearn.metrics import mean_squared_error"
   ]
  },
  {
   "cell_type": "code",
   "execution_count": 2,
   "metadata": {
    "collapsed": false,
    "scrolled": true
   },
   "outputs": [],
   "source": [
    "# read file\n",
    "df = pd.read_csv(\"AmesHousing.tsv\", delimiter=\"\\t\")"
   ]
  },
  {
   "cell_type": "code",
   "execution_count": 3,
   "metadata": {
    "collapsed": false
   },
   "outputs": [
    {
     "name": "stdout",
     "output_type": "stream",
     "text": [
      "57088.25161263909\n"
     ]
    }
   ],
   "source": [
    "def transform_features(df):\n",
    "    return df\n",
    "\n",
    "def select_features(df):\n",
    "    return df[[\"Gr Liv Area\", \"SalePrice\"]]\n",
    "\n",
    "def train_and_test(df):\n",
    "    train = df[:1460]\n",
    "    test= df[1460:]\n",
    "    \n",
    "    # Select only the numerical columns from train and test\n",
    "    numeric_train = train.select_dtypes(include=['integer', 'float'])\n",
    "    numeric_test = test.select_dtypes(include=['integer', 'float'])\n",
    "    \n",
    "    #Select all featires except 'SalePrice'\n",
    "    features = numeric_train.columns.drop(\"SalePrice\")\n",
    "    lr = linear_model.LinearRegression()\n",
    "    lr.fit(train[features], train[\"SalePrice\"])\n",
    "    predictions = lr.predict(test[features])\n",
    "    mse = mean_squared_error(test[\"SalePrice\"], predictions)\n",
    "    rmse = np.sqrt(mse)\n",
    "    \n",
    "    return rmse\n",
    "\n",
    "transform_df = transform_features(df)\n",
    "filter_features = select_features(transform_df)\n",
    "rmse = train_and_test(filter_features)\n",
    "\n",
    "print(rmse)"
   ]
  },
  {
   "cell_type": "markdown",
   "metadata": {},
   "source": [
    "## Feature improvements\n",
    "\n",
    "- Missing value\n",
    "    - For all Columns\n",
    "        - Drop any columns have 5% or more missing values\n",
    "    - For text columns\n",
    "        - Drop with 1 or more missing values\n",
    "    - For Numercial columns\n",
    "        - Columns with missing values, fill with most common values"
   ]
  },
  {
   "cell_type": "code",
   "execution_count": 4,
   "metadata": {
    "collapsed": false
   },
   "outputs": [
    {
     "name": "stdout",
     "output_type": "stream",
     "text": [
      "Order               0\n",
      "PID                 0\n",
      "MS SubClass         0\n",
      "MS Zoning           0\n",
      "Lot Area            0\n",
      "Street              0\n",
      "Lot Shape           0\n",
      "Land Contour        0\n",
      "Utilities           0\n",
      "Lot Config          0\n",
      "Land Slope          0\n",
      "Neighborhood        0\n",
      "Condition 1         0\n",
      "Condition 2         0\n",
      "Bldg Type           0\n",
      "House Style         0\n",
      "Overall Qual        0\n",
      "Overall Cond        0\n",
      "Year Built          0\n",
      "Year Remod/Add      0\n",
      "Roof Style          0\n",
      "Roof Matl           0\n",
      "Exterior 1st        0\n",
      "Exterior 2nd        0\n",
      "Mas Vnr Type       23\n",
      "Mas Vnr Area       23\n",
      "Exter Qual          0\n",
      "Exter Cond          0\n",
      "Foundation          0\n",
      "Bsmt Qual          80\n",
      "                   ..\n",
      "Electrical          1\n",
      "1st Flr SF          0\n",
      "2nd Flr SF          0\n",
      "Low Qual Fin SF     0\n",
      "Gr Liv Area         0\n",
      "Bsmt Full Bath      2\n",
      "Bsmt Half Bath      2\n",
      "Full Bath           0\n",
      "Half Bath           0\n",
      "Bedroom AbvGr       0\n",
      "Kitchen AbvGr       0\n",
      "Kitchen Qual        0\n",
      "TotRms AbvGrd       0\n",
      "Functional          0\n",
      "Fireplaces          0\n",
      "Garage Cars         1\n",
      "Garage Area         1\n",
      "Paved Drive         0\n",
      "Wood Deck SF        0\n",
      "Open Porch SF       0\n",
      "Enclosed Porch      0\n",
      "3Ssn Porch          0\n",
      "Screen Porch        0\n",
      "Pool Area           0\n",
      "Misc Val            0\n",
      "Mo Sold             0\n",
      "Yr Sold             0\n",
      "Sale Type           0\n",
      "Sale Condition      0\n",
      "SalePrice           0\n",
      "Length: 71, dtype: int64\n"
     ]
    }
   ],
   "source": [
    "## Drop columns with 5% or more missing data\n",
    "\n",
    "# Summerize all missing data\n",
    "num_missings = df.isnull().sum()\n",
    "\n",
    "# Filter 5% or more missing data columns\n",
    "drop_missing_columns = num_missings[(num_missings > len(df)/20)].sort_values()\n",
    "\n",
    "# Drop the Filtered columns\n",
    "df= df.drop(drop_missing_columns.index, axis=1)\n",
    "print(df.isnull().sum())"
   ]
  },
  {
   "cell_type": "markdown",
   "metadata": {},
   "source": [
    "### Drop any 1 or more missing values from text columns"
   ]
  },
  {
   "cell_type": "code",
   "execution_count": 5,
   "metadata": {
    "collapsed": false,
    "scrolled": true
   },
   "outputs": [
    {
     "name": "stdout",
     "output_type": "stream",
     "text": [
      "Order               0\n",
      "PID                 0\n",
      "MS SubClass         0\n",
      "MS Zoning           0\n",
      "Lot Area            0\n",
      "Street              0\n",
      "Lot Shape           0\n",
      "Land Contour        0\n",
      "Utilities           0\n",
      "Lot Config          0\n",
      "Land Slope          0\n",
      "Neighborhood        0\n",
      "Condition 1         0\n",
      "Condition 2         0\n",
      "Bldg Type           0\n",
      "House Style         0\n",
      "Overall Qual        0\n",
      "Overall Cond        0\n",
      "Year Built          0\n",
      "Year Remod/Add      0\n",
      "Roof Style          0\n",
      "Roof Matl           0\n",
      "Exterior 1st        0\n",
      "Exterior 2nd        0\n",
      "Mas Vnr Area       23\n",
      "Exter Qual          0\n",
      "Exter Cond          0\n",
      "Foundation          0\n",
      "BsmtFin SF 1        1\n",
      "BsmtFin SF 2        1\n",
      "                   ..\n",
      "Central Air         0\n",
      "1st Flr SF          0\n",
      "2nd Flr SF          0\n",
      "Low Qual Fin SF     0\n",
      "Gr Liv Area         0\n",
      "Bsmt Full Bath      2\n",
      "Bsmt Half Bath      2\n",
      "Full Bath           0\n",
      "Half Bath           0\n",
      "Bedroom AbvGr       0\n",
      "Kitchen AbvGr       0\n",
      "Kitchen Qual        0\n",
      "TotRms AbvGrd       0\n",
      "Functional          0\n",
      "Fireplaces          0\n",
      "Garage Cars         1\n",
      "Garage Area         1\n",
      "Paved Drive         0\n",
      "Wood Deck SF        0\n",
      "Open Porch SF       0\n",
      "Enclosed Porch      0\n",
      "3Ssn Porch          0\n",
      "Screen Porch        0\n",
      "Pool Area           0\n",
      "Misc Val            0\n",
      "Mo Sold             0\n",
      "Yr Sold             0\n",
      "Sale Type           0\n",
      "Sale Condition      0\n",
      "SalePrice           0\n",
      "Length: 64, dtype: int64\n"
     ]
    }
   ],
   "source": [
    "# missing values for series objects\n",
    "text_mv_counts = df.select_dtypes(include=['object']).isnull().sum().sort_values(ascending=False)\n",
    "\n",
    "# Filter missing values 1 or more\n",
    "drop_missing_columns2 = text_mv_counts[text_mv_counts > 0]\n",
    "\n",
    "df=df.drop(drop_missing_columns2.index, axis=1)\n",
    "print(df.isnull().sum())"
   ]
  },
  {
   "cell_type": "markdown",
   "metadata": {},
   "source": [
    "### Fill up the missing numerical columns with most common value"
   ]
  },
  {
   "cell_type": "code",
   "execution_count": 6,
   "metadata": {
    "collapsed": false
   },
   "outputs": [
    {
     "data": {
      "text/plain": [
       "BsmtFin SF 1       1\n",
       "BsmtFin SF 2       1\n",
       "Bsmt Unf SF        1\n",
       "Total Bsmt SF      1\n",
       "Garage Cars        1\n",
       "Garage Area        1\n",
       "Bsmt Full Bath     2\n",
       "Bsmt Half Bath     2\n",
       "Mas Vnr Area      23\n",
       "dtype: int64"
      ]
     },
     "execution_count": 6,
     "metadata": {},
     "output_type": "execute_result"
    }
   ],
   "source": [
    "# Summary of numeric columns\n",
    "num_colum = df.select_dtypes(include=['int', 'float']).isnull().sum()\n",
    "\n",
    "# Numerical columns with missing values\n",
    "num_missing = num_colum[num_colum > 0].sort_values()\n",
    "num_missing"
   ]
  },
  {
   "cell_type": "code",
   "execution_count": 7,
   "metadata": {
    "collapsed": false
   },
   "outputs": [
    {
     "data": {
      "text/plain": [
       "{'Bsmt Full Bath': 0.0,\n",
       " 'Bsmt Half Bath': 0.0,\n",
       " 'Bsmt Unf SF': 0.0,\n",
       " 'BsmtFin SF 1': 0.0,\n",
       " 'BsmtFin SF 2': 0.0,\n",
       " 'Garage Area': 0.0,\n",
       " 'Garage Cars': 2.0,\n",
       " 'Mas Vnr Area': 0.0,\n",
       " 'Total Bsmt SF': 0.0}"
      ]
     },
     "execution_count": 7,
     "metadata": {},
     "output_type": "execute_result"
    }
   ],
   "source": [
    "# Compute most comon values for each missing columns\n",
    "common_values_dict = df[num_missing.index].mode().to_dict(orient='records')[0]\n",
    "common_values_dict"
   ]
  },
  {
   "cell_type": "code",
   "execution_count": 8,
   "metadata": {
    "collapsed": false
   },
   "outputs": [
    {
     "name": "stdout",
     "output_type": "stream",
     "text": [
      "0    64\n",
      "dtype: int64\n"
     ]
    }
   ],
   "source": [
    "## Fill the missing date\n",
    "df = df.fillna (common_values_dict)\n",
    "print(df.isnull().sum().value_counts())"
   ]
  },
  {
   "cell_type": "markdown",
   "metadata": {},
   "source": [
    "Create new features with the existing feature for better information"
   ]
  },
  {
   "cell_type": "code",
   "execution_count": 9,
   "metadata": {
    "collapsed": false
   },
   "outputs": [],
   "source": [
    "years_old = df['Yr Sold'] - df['Year Built']\n",
    "# years_old[years_old <0]\n",
    "years_since_remod = df['Yr Sold'] - df['Year Remod/Add']\n",
    "# years_since_remod[years_since_remod < 0]\n",
    "\n",
    "\n",
    "# Create new columns\n",
    "df['Years before sale'] = years_old\n",
    "df['Years since Remod'] = years_since_remod\n",
    "\n",
    "neg_rows = df[(df['Years before sale'] < 0) | (df['Years since Remod'] < 0)].index\n",
    "df= df.drop(neg_rows, axis=0)\n",
    "\n",
    "## No longer need original year columns\n",
    "df = df.drop([\"Year Built\", \"Year Remod/Add\"], axis = 1)\n"
   ]
  },
  {
   "cell_type": "markdown",
   "metadata": {},
   "source": [
    "- Drop columns that are \n",
    "    - not useful for ML\n",
    "    - Have data leakage\n",
    "\n"
   ]
  },
  {
   "cell_type": "code",
   "execution_count": 10,
   "metadata": {
    "collapsed": true
   },
   "outputs": [],
   "source": [
    "## Drop columns that aren't useful for ML\n",
    "df = df.drop([\"PID\", \"Order\"], axis=1)\n",
    "\n",
    "## Drop columns that leak info about the final sale\n",
    "df = df.drop([\"Mo Sold\", \"Sale Condition\", \"Sale Type\", \"Yr Sold\"], axis=1)"
   ]
  },
  {
   "cell_type": "markdown",
   "metadata": {
    "collapsed": true
   },
   "source": [
    "* Update transform_features() fuction which contains all the above modification"
   ]
  },
  {
   "cell_type": "code",
   "execution_count": 11,
   "metadata": {
    "collapsed": false
   },
   "outputs": [
    {
     "data": {
      "text/plain": [
       "55275.36731241307"
      ]
     },
     "execution_count": 11,
     "metadata": {},
     "output_type": "execute_result"
    }
   ],
   "source": [
    "def transform_features(df):\n",
    "    num_missings = df.isnull().sum()\n",
    "    drop_missing_columns = num_missings[(num_missings > len(df)/20)].sort_values()\n",
    "    df= df.drop(drop_missing_columns.index, axis=1)\n",
    "\n",
    "    text_mv_counts = df.select_dtypes(include=['object']).isnull().sum().sort_values(ascending=False)\n",
    "    drop_missing_columns2 = text_mv_counts[text_mv_counts > 0]\n",
    "    df=df.drop(drop_missing_columns2.index, axis=1)\n",
    "\n",
    "    num_colum = df.select_dtypes(include=['int', 'float']).isnull().sum()\n",
    "    num_missing = num_colum[num_colum > 0].sort_values()\n",
    "    common_values_dict = df[num_missing.index].mode().to_dict(orient='records')[0]\n",
    "    df = df.fillna (common_values_dict)\n",
    "\n",
    "    years_old = df['Yr Sold'] - df['Year Built']\n",
    "    years_since_remod = df['Yr Sold'] - df['Year Remod/Add']\n",
    "    df['Years before sale'] = years_old\n",
    "    df['Years since Remod'] = years_since_remod\n",
    "\n",
    "    neg_rows = df[(df['Years before sale'] < 0) | (df['Years since Remod'] < 0)].index\n",
    "    df= df.drop(neg_rows, axis=0)\n",
    "    df = df.drop([], axis=1)\n",
    "    df = df.drop([\"PID\", \"Order\", \"Mo Sold\", \"Sale Condition\", \"Sale Type\", \"Yr Sold\", \"Year Built\", \"Year Remod/Add\"], axis=1)\n",
    "    \n",
    "    return df\n",
    "\n",
    "def select_features(df):\n",
    "    return df[[\"Gr Liv Area\", \"SalePrice\"]]\n",
    "\n",
    "def train_and_test(df):\n",
    "    train = df[:1460]\n",
    "    test= df[1460:]\n",
    "    \n",
    "    # Select only the numerical columns from train and test\n",
    "    numeric_train = train.select_dtypes(include=['integer', 'float'])\n",
    "    numeric_test = test.select_dtypes(include=['integer', 'float'])\n",
    "    \n",
    "    #Select all featires except 'SalePrice'\n",
    "    features = numeric_train.columns.drop(\"SalePrice\")\n",
    "    lr = linear_model.LinearRegression()\n",
    "    lr.fit(train[features], train[\"SalePrice\"])\n",
    "    predictions = lr.predict(test[features])\n",
    "    mse = mean_squared_error(test[\"SalePrice\"], predictions)\n",
    "    rmse = np.sqrt(mse)\n",
    "    \n",
    "    return rmse\n",
    "\n",
    "df = pd.read_csv(\"AmesHousing.tsv\", delimiter=\"\\t\")\n",
    "transform_df = transform_features(df)\n",
    "filter_features = select_features(transform_df)\n",
    "rmse = train_and_test(filter_features)\n",
    "\n",
    "rmse"
   ]
  },
  {
   "cell_type": "markdown",
   "metadata": {},
   "source": [
    "## Feature Selction for Numerical featires"
   ]
  },
  {
   "cell_type": "code",
   "execution_count": 12,
   "metadata": {
    "collapsed": false
   },
   "outputs": [
    {
     "data": {
      "text/html": [
       "<div>\n",
       "<style scoped>\n",
       "    .dataframe tbody tr th:only-of-type {\n",
       "        vertical-align: middle;\n",
       "    }\n",
       "\n",
       "    .dataframe tbody tr th {\n",
       "        vertical-align: top;\n",
       "    }\n",
       "\n",
       "    .dataframe thead th {\n",
       "        text-align: right;\n",
       "    }\n",
       "</style>\n",
       "<table border=\"1\" class=\"dataframe\">\n",
       "  <thead>\n",
       "    <tr style=\"text-align: right;\">\n",
       "      <th></th>\n",
       "      <th>MS SubClass</th>\n",
       "      <th>Lot Area</th>\n",
       "      <th>Overall Qual</th>\n",
       "      <th>Overall Cond</th>\n",
       "      <th>Mas Vnr Area</th>\n",
       "      <th>BsmtFin SF 1</th>\n",
       "      <th>BsmtFin SF 2</th>\n",
       "      <th>Bsmt Unf SF</th>\n",
       "      <th>Total Bsmt SF</th>\n",
       "      <th>1st Flr SF</th>\n",
       "      <th>...</th>\n",
       "      <th>Wood Deck SF</th>\n",
       "      <th>Open Porch SF</th>\n",
       "      <th>Enclosed Porch</th>\n",
       "      <th>3Ssn Porch</th>\n",
       "      <th>Screen Porch</th>\n",
       "      <th>Pool Area</th>\n",
       "      <th>Misc Val</th>\n",
       "      <th>SalePrice</th>\n",
       "      <th>Years before sale</th>\n",
       "      <th>Years since Remod</th>\n",
       "    </tr>\n",
       "  </thead>\n",
       "  <tbody>\n",
       "    <tr>\n",
       "      <th>0</th>\n",
       "      <td>20</td>\n",
       "      <td>31770</td>\n",
       "      <td>6</td>\n",
       "      <td>5</td>\n",
       "      <td>112.0</td>\n",
       "      <td>639.0</td>\n",
       "      <td>0.0</td>\n",
       "      <td>441.0</td>\n",
       "      <td>1080.0</td>\n",
       "      <td>1656</td>\n",
       "      <td>...</td>\n",
       "      <td>210</td>\n",
       "      <td>62</td>\n",
       "      <td>0</td>\n",
       "      <td>0</td>\n",
       "      <td>0</td>\n",
       "      <td>0</td>\n",
       "      <td>0</td>\n",
       "      <td>215000</td>\n",
       "      <td>50</td>\n",
       "      <td>50</td>\n",
       "    </tr>\n",
       "    <tr>\n",
       "      <th>1</th>\n",
       "      <td>20</td>\n",
       "      <td>11622</td>\n",
       "      <td>5</td>\n",
       "      <td>6</td>\n",
       "      <td>0.0</td>\n",
       "      <td>468.0</td>\n",
       "      <td>144.0</td>\n",
       "      <td>270.0</td>\n",
       "      <td>882.0</td>\n",
       "      <td>896</td>\n",
       "      <td>...</td>\n",
       "      <td>140</td>\n",
       "      <td>0</td>\n",
       "      <td>0</td>\n",
       "      <td>0</td>\n",
       "      <td>120</td>\n",
       "      <td>0</td>\n",
       "      <td>0</td>\n",
       "      <td>105000</td>\n",
       "      <td>49</td>\n",
       "      <td>49</td>\n",
       "    </tr>\n",
       "    <tr>\n",
       "      <th>2</th>\n",
       "      <td>20</td>\n",
       "      <td>14267</td>\n",
       "      <td>6</td>\n",
       "      <td>6</td>\n",
       "      <td>108.0</td>\n",
       "      <td>923.0</td>\n",
       "      <td>0.0</td>\n",
       "      <td>406.0</td>\n",
       "      <td>1329.0</td>\n",
       "      <td>1329</td>\n",
       "      <td>...</td>\n",
       "      <td>393</td>\n",
       "      <td>36</td>\n",
       "      <td>0</td>\n",
       "      <td>0</td>\n",
       "      <td>0</td>\n",
       "      <td>0</td>\n",
       "      <td>12500</td>\n",
       "      <td>172000</td>\n",
       "      <td>52</td>\n",
       "      <td>52</td>\n",
       "    </tr>\n",
       "    <tr>\n",
       "      <th>3</th>\n",
       "      <td>20</td>\n",
       "      <td>11160</td>\n",
       "      <td>7</td>\n",
       "      <td>5</td>\n",
       "      <td>0.0</td>\n",
       "      <td>1065.0</td>\n",
       "      <td>0.0</td>\n",
       "      <td>1045.0</td>\n",
       "      <td>2110.0</td>\n",
       "      <td>2110</td>\n",
       "      <td>...</td>\n",
       "      <td>0</td>\n",
       "      <td>0</td>\n",
       "      <td>0</td>\n",
       "      <td>0</td>\n",
       "      <td>0</td>\n",
       "      <td>0</td>\n",
       "      <td>0</td>\n",
       "      <td>244000</td>\n",
       "      <td>42</td>\n",
       "      <td>42</td>\n",
       "    </tr>\n",
       "    <tr>\n",
       "      <th>4</th>\n",
       "      <td>60</td>\n",
       "      <td>13830</td>\n",
       "      <td>5</td>\n",
       "      <td>5</td>\n",
       "      <td>0.0</td>\n",
       "      <td>791.0</td>\n",
       "      <td>0.0</td>\n",
       "      <td>137.0</td>\n",
       "      <td>928.0</td>\n",
       "      <td>928</td>\n",
       "      <td>...</td>\n",
       "      <td>212</td>\n",
       "      <td>34</td>\n",
       "      <td>0</td>\n",
       "      <td>0</td>\n",
       "      <td>0</td>\n",
       "      <td>0</td>\n",
       "      <td>0</td>\n",
       "      <td>189900</td>\n",
       "      <td>13</td>\n",
       "      <td>12</td>\n",
       "    </tr>\n",
       "  </tbody>\n",
       "</table>\n",
       "<p>5 rows × 33 columns</p>\n",
       "</div>"
      ],
      "text/plain": [
       "   MS SubClass  Lot Area  Overall Qual  Overall Cond  Mas Vnr Area  \\\n",
       "0           20     31770             6             5         112.0   \n",
       "1           20     11622             5             6           0.0   \n",
       "2           20     14267             6             6         108.0   \n",
       "3           20     11160             7             5           0.0   \n",
       "4           60     13830             5             5           0.0   \n",
       "\n",
       "   BsmtFin SF 1  BsmtFin SF 2  Bsmt Unf SF  Total Bsmt SF  1st Flr SF  \\\n",
       "0         639.0           0.0        441.0         1080.0        1656   \n",
       "1         468.0         144.0        270.0          882.0         896   \n",
       "2         923.0           0.0        406.0         1329.0        1329   \n",
       "3        1065.0           0.0       1045.0         2110.0        2110   \n",
       "4         791.0           0.0        137.0          928.0         928   \n",
       "\n",
       "         ...          Wood Deck SF  Open Porch SF  Enclosed Porch  3Ssn Porch  \\\n",
       "0        ...                   210             62               0           0   \n",
       "1        ...                   140              0               0           0   \n",
       "2        ...                   393             36               0           0   \n",
       "3        ...                     0              0               0           0   \n",
       "4        ...                   212             34               0           0   \n",
       "\n",
       "   Screen Porch  Pool Area  Misc Val  SalePrice  Years before sale  \\\n",
       "0             0          0         0     215000                 50   \n",
       "1           120          0         0     105000                 49   \n",
       "2             0          0     12500     172000                 52   \n",
       "3             0          0         0     244000                 42   \n",
       "4             0          0         0     189900                 13   \n",
       "\n",
       "   Years since Remod  \n",
       "0                 50  \n",
       "1                 49  \n",
       "2                 52  \n",
       "3                 42  \n",
       "4                 12  \n",
       "\n",
       "[5 rows x 33 columns]"
      ]
     },
     "execution_count": 12,
     "metadata": {},
     "output_type": "execute_result"
    }
   ],
   "source": [
    "numerical_df = transform_df.select_dtypes(include = ['int', 'float'])\n",
    "numerical_df.head(5)"
   ]
  },
  {
   "cell_type": "code",
   "execution_count": 13,
   "metadata": {
    "collapsed": false
   },
   "outputs": [
    {
     "data": {
      "text/plain": [
       "BsmtFin SF 1         0.439284\n",
       "Fireplaces           0.474831\n",
       "TotRms AbvGrd        0.498574\n",
       "Mas Vnr Area         0.506983\n",
       "Years since Remod    0.534985\n",
       "Full Bath            0.546118\n",
       "Years before sale    0.558979\n",
       "1st Flr SF           0.635185\n",
       "Garage Area          0.641425\n",
       "Total Bsmt SF        0.644012\n",
       "Garage Cars          0.648361\n",
       "Gr Liv Area          0.717596\n",
       "Overall Qual         0.801206\n",
       "SalePrice            1.000000\n",
       "Name: SalePrice, dtype: float64"
      ]
     },
     "execution_count": 13,
     "metadata": {},
     "output_type": "execute_result"
    }
   ],
   "source": [
    "abs_corr_coeff = numerical_df.corr()['SalePrice'].abs().sort_values()\n",
    "\n",
    "abs_corr_coeff[abs_corr_coeff > .4]"
   ]
  },
  {
   "cell_type": "code",
   "execution_count": 14,
   "metadata": {
    "collapsed": false
   },
   "outputs": [],
   "source": [
    "# Drop columns with correlation coefficients less than 0.4\n",
    "transform_df = transform_df.drop (abs_corr_coeff[abs_corr_coeff > .4].index, axis=1)\n"
   ]
  },
  {
   "cell_type": "markdown",
   "metadata": {},
   "source": [
    "#### Selecting categorical columns"
   ]
  },
  {
   "cell_type": "code",
   "execution_count": 15,
   "metadata": {
    "collapsed": true
   },
   "outputs": [],
   "source": [
    "# List of columns name as categorical selected from documentation\n",
    "nominal_variables = [\"PID\", \"MS SubClass\", \"MS Zoning\", \"Street\", \"Alley\", \"Land Contour\", \"Lot Config\", \"Neighborhood\", \"Condition 1\", \"Condition 2\", \"Bldg Type\", \"House Style\", \"Roof Style\", \"Roof Matl\", \"Exterior 1st\", \"Exterior 2nd\", \"Mas Vnr Type\", \"Foundation\", \"Heating\", \"Central Air\", \"Garage Type\", \"Misc Feature\", \"Sale Type\", \"Sale Condition\"]"
   ]
  },
  {
   "cell_type": "code",
   "execution_count": 16,
   "metadata": {
    "collapsed": false
   },
   "outputs": [],
   "source": [
    "# Short out the catagorical columns that are already in our data set\n",
    "select_cata_cols = []\n",
    "\n",
    "for col in nominal_variables:\n",
    "    if col in transform_df.columns:\n",
    "        select_cata_cols.append(col)\n",
    "        \n",
    "# Check unique values of selected catagorical columns\n",
    "unique_count = transform_df[select_cata_cols].apply(lambda col: len(col.value_counts())).sort_values()\n",
    "\n",
    "# Cut off value more than 10\n",
    "drop_nonuniq_cols = unique_count[unique_count > 10].index\n",
    "drop_nonuniq_cols\n",
    "transform_df = transform_df.drop(drop_nonuniq_cols, axis=1)"
   ]
  },
  {
   "cell_type": "code",
   "execution_count": 17,
   "metadata": {
    "collapsed": true
   },
   "outputs": [],
   "source": [
    "## Select just the remaining text columns and convert to categorical\n",
    "text_cols = transform_df.select_dtypes(include=['object'])\n",
    "for col in text_cols:\n",
    "    transform_df[col] = transform_df[col].astype('category')\n",
    "    \n",
    "## Create dummy columns and add back to the dataframe!\n",
    "transform_df = pd.concat([\n",
    "    transform_df, \n",
    "    pd.get_dummies(transform_df.select_dtypes(include=['category']))\n",
    "], axis=1).drop(text_cols,axis=1)"
   ]
  },
  {
   "cell_type": "markdown",
   "metadata": {},
   "source": [
    "#### Update select_features()"
   ]
  },
  {
   "cell_type": "code",
   "execution_count": 33,
   "metadata": {
    "collapsed": false,
    "scrolled": true
   },
   "outputs": [
    {
     "name": "stdout",
     "output_type": "stream",
     "text": [
      "[28219.47959384637, 36618.556937611436, 27070.570914961518, 25136.176529373908]\n"
     ]
    },
    {
     "data": {
      "text/plain": [
       "29261.195993948306"
      ]
     },
     "execution_count": 33,
     "metadata": {},
     "output_type": "execute_result"
    }
   ],
   "source": [
    "def transform_features(df):\n",
    "    num_missings = df.isnull().sum()\n",
    "    drop_missing_columns = num_missings[(num_missings > len(df)/20)].sort_values()\n",
    "    df= df.drop(drop_missing_columns.index, axis=1)\n",
    "\n",
    "    text_mv_counts = df.select_dtypes(include=['object']).isnull().sum().sort_values(ascending=False)\n",
    "    drop_missing_columns2 = text_mv_counts[text_mv_counts > 0]\n",
    "    df=df.drop(drop_missing_columns2.index, axis=1)\n",
    "\n",
    "    num_colum = df.select_dtypes(include=['int', 'float']).isnull().sum()\n",
    "    num_missing = num_colum[num_colum > 0].sort_values()\n",
    "    common_values_dict = df[num_missing.index].mode().to_dict(orient='records')[0]\n",
    "    df = df.fillna (common_values_dict)\n",
    "\n",
    "    years_old = df['Yr Sold'] - df['Year Built']\n",
    "    years_since_remod = df['Yr Sold'] - df['Year Remod/Add']\n",
    "    df['Years before sale'] = years_old\n",
    "    df['Years since Remod'] = years_since_remod\n",
    "\n",
    "    neg_rows = df[(df['Years before sale'] < 0) | (df['Years since Remod'] < 0)].index\n",
    "    df= df.drop(neg_rows, axis=0)\n",
    "    df = df.drop([\"PID\", \"Order\", \"Mo Sold\", \"Sale Condition\", \"Sale Type\", \"Yr Sold\", \"Year Built\", \"Year Remod/Add\"], axis=1)\n",
    "    \n",
    "    return df\n",
    "\n",
    "def select_features(df, coeff_th=0.4, uniq_th=10):\n",
    "    numerical_df = df.select_dtypes(include = ['int', 'float'])\n",
    "    abs_corr_coeff = numerical_df.corr()['SalePrice'].abs().sort_values()\n",
    "    df = df.drop (abs_corr_coeff[abs_corr_coeff < coeff_th].index, axis=1)\n",
    "    # print(df['SalePrice'])\n",
    "    \n",
    "    nominal_variables = [\"PID\", \"MS SubClass\", \"MS Zoning\", \"Street\", \"Alley\", \"Land Contour\", \"Lot Config\", \"Neighborhood\", \n",
    "                         \"Condition 1\", \"Condition 2\", \"Bldg Type\", \"House Style\", \"Roof Style\", \"Roof Matl\", \"Exterior 1st\", \n",
    "                         \"Exterior 2nd\", \"Mas Vnr Type\", \"Foundation\", \"Heating\", \"Central Air\", \"Garage Type\", \"Misc Feature\", \n",
    "                         \"Sale Type\", \"Sale Condition\"]\n",
    "    \n",
    "    \n",
    "    select_cata_cols = []\n",
    "    for col in nominal_variables:\n",
    "        if col in df.columns:\n",
    "            select_cata_cols.append(col)     \n",
    "\n",
    "    unique_count = df[select_cata_cols].apply(lambda col: len(col.value_counts())).sort_values()\n",
    "    drop_nonuniq_cols = unique_count[unique_count > uniq_th].index\n",
    "    df = df.drop(drop_nonuniq_cols, axis=1)\n",
    "    \n",
    "    text_cols = df.select_dtypes(include=['object'])\n",
    "    for col in text_cols:\n",
    "        df[col] = df[col].astype('category')\n",
    "    df = pd.concat([df, pd.get_dummies(df.select_dtypes(include=['category']))], axis=1).drop(text_cols,axis=1)   \n",
    "    \n",
    "    return df\n",
    "\n",
    "def train_and_test(df, k=0):\n",
    "    numeric_df = df.select_dtypes(include=['integer', 'float'])\n",
    "    features = numeric_df.columns.drop(\"SalePrice\")\n",
    "    lr = linear_model.LinearRegression()\n",
    "\n",
    "    if k == 0:\n",
    "        train = df[:1460]\n",
    "        test = df[1460:]\n",
    "\n",
    "        lr.fit(train[features], train[\"SalePrice\"])\n",
    "        predictions = lr.predict(test[features])\n",
    "        mse = mean_squared_error(test[\"SalePrice\"], predictions)\n",
    "        rmse = np.sqrt(mse)\n",
    "    \n",
    "        return rmse\n",
    "\n",
    "    if k == 1:\n",
    "        shuffle_df = df.sample(frac=1)\n",
    "        fold_one = shuffle_df[:1460]\n",
    "        fold_two = shuffle_df[1460:]\n",
    "        \n",
    "        lr.fit(fold_one[features], fold_one[\"SalePrice\"])\n",
    "        predictions_one = lr.predict(fold_two[features])\n",
    "        \n",
    "        mse_one = mean_squared_error(fold_two[\"SalePrice\"], predictions_one)\n",
    "        rmse_one = np.sqrt(mse_one)\n",
    "        \n",
    "        lr.fit(fold_two[features], fold_two[\"SalePrice\"])\n",
    "        predictions_two = lr.predict(fold_one[features])\n",
    "        \n",
    "        mse_two = mean_squared_error(fold_one[\"SalePrice\"], predictions_two)\n",
    "        rmse_two = np.sqrt(mse_two)\n",
    "        \n",
    "        avg_rmse = np.mean([rmse_one, rmse_two])\n",
    "        \n",
    "        print(rmse_one)\n",
    "        print(rmse_two)\n",
    "           \n",
    "        return avg_rmse\n",
    "    else:\n",
    "        kf = KFold(n_splits=k, shuffle=True)\n",
    "        rmse_values = []\n",
    "        for train_index, test_index, in kf.split(df):\n",
    "            train = df.iloc[train_index]\n",
    "            test = df.iloc[test_index]\n",
    "            lr.fit(train[features], train[\"SalePrice\"])\n",
    "            predictions = lr.predict(test[features])\n",
    "            mse = mean_squared_error(test[\"SalePrice\"], predictions)\n",
    "            rmse = np.sqrt(mse)\n",
    "            rmse_values.append(rmse)\n",
    "        print(rmse_values)\n",
    "        avg_rmse = np.mean(rmse_values)\n",
    "        return avg_rmse\n",
    "        \n",
    "        \n",
    "\n",
    "df = pd.read_csv(\"AmesHousing.tsv\", delimiter=\"\\t\")\n",
    "transform_df = transform_features(df)\n",
    "filter_features = select_features(transform_df)\n",
    "rmse = train_and_test(filter_features, k=4)\n",
    "\n",
    "rmse"
   ]
  },
  {
   "cell_type": "code",
   "execution_count": null,
   "metadata": {
    "collapsed": true
   },
   "outputs": [],
   "source": []
  }
 ],
 "metadata": {
  "anaconda-cloud": {},
  "kernelspec": {
   "display_name": "Python 3",
   "language": "python",
   "name": "python3"
  },
  "language_info": {
   "codemirror_mode": {
    "name": "ipython",
    "version": 3
   },
   "file_extension": ".py",
   "mimetype": "text/x-python",
   "name": "python",
   "nbconvert_exporter": "python",
   "pygments_lexer": "ipython3",
   "version": "3.4.3"
  }
 },
 "nbformat": 4,
 "nbformat_minor": 2
}
